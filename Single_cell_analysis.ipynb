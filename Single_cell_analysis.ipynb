{
  "nbformat": 4,
  "nbformat_minor": 0,
  "metadata": {
    "colab": {
      "name": "Single_cell_analysis.ipynb",
      "provenance": []
    },
    "kernelspec": {
      "name": "ir",
      "display_name": "R"
    },
    "language_info": {
      "name": "R"
    }
  },
  "cells": [
    {
      "cell_type": "markdown",
      "metadata": {
        "id": "N_nOUAh8k_vV"
      },
      "source": [
        "**Single Cell Analysis**\n",
        "\n",
        "\n",
        "In this tutorial, we will be analyzing the a dataset of Peripheral Blood Mononuclear Cells (PBMC) freely available from 10X Genomics. There are 2,700 single cells that were sequenced on the Illumina NextSeq 500. \n",
        "\n",
        "The example raw data can be found here (https://cf.10xgenomics.com/samples/cell/pbmc3k/pbmc3k_filtered_gene_bc_matrices.tar.gz)\n",
        "\n"
      ]
    },
    {
      "cell_type": "markdown",
      "metadata": {
        "id": "smxcsrkVmGYs"
      },
      "source": [
        "First, install and Load Required packages"
      ]
    },
    {
      "cell_type": "code",
      "metadata": {
        "colab": {
          "base_uri": "https://localhost:8080/"
        },
        "id": "lChJ6nJaleNL",
        "outputId": "06d631c8-d3f9-4da3-80b5-107febba34a4"
      },
      "source": [
        "install.packages('Seurat')"
      ],
      "execution_count": null,
      "outputs": [
        {
          "output_type": "stream",
          "name": "stderr",
          "text": [
            "Installing package into ‘/usr/local/lib/R/site-library’\n",
            "(as ‘lib’ is unspecified)\n",
            "\n",
            "also installing the dependencies ‘bitops’, ‘gtools’, ‘caTools’, ‘BH’, ‘sitmo’, ‘globals’, ‘listenv’, ‘parallelly’, ‘plyr’, ‘zoo’, ‘htmlwidgets’, ‘lazyeval’, ‘crosstalk’, ‘promises’, ‘RcppTOML’, ‘here’, ‘gplots’, ‘reshape2’, ‘gridExtra’, ‘RcppArmadillo’, ‘httpuv’, ‘xtable’, ‘fontawesome’, ‘sourcetools’, ‘later’, ‘spatstat.data’, ‘spatstat.random’, ‘spatstat.utils’, ‘spatstat.sparse’, ‘abind’, ‘tensor’, ‘goftest’, ‘deldir’, ‘polyclip’, ‘FNN’, ‘RSpectra’, ‘dqrng’, ‘cowplot’, ‘fitdistrplus’, ‘future’, ‘future.apply’, ‘ggrepel’, ‘ggridges’, ‘ica’, ‘igraph’, ‘irlba’, ‘leiden’, ‘lmtest’, ‘matrixStats’, ‘miniUI’, ‘patchwork’, ‘pbapply’, ‘plotly’, ‘png’, ‘RANN’, ‘RcppAnnoy’, ‘reticulate’, ‘ROCR’, ‘Rtsne’, ‘scattermore’, ‘sctransform’, ‘SeuratObject’, ‘shiny’, ‘spatstat.core’, ‘spatstat.geom’, ‘uwot’, ‘RcppEigen’, ‘RcppProgress’\n",
            "\n",
            "\n"
          ]
        }
      ]
    },
    {
      "cell_type": "code",
      "metadata": {
        "colab": {
          "base_uri": "https://localhost:8080/"
        },
        "id": "Q1tOeLDKnOoA",
        "outputId": "3b1f7e83-5011-4759-8bb4-eab99091561e"
      },
      "source": [
        "install.packages('SeuratData')"
      ],
      "execution_count": null,
      "outputs": [
        {
          "output_type": "stream",
          "name": "stderr",
          "text": [
            "Installing package into ‘/usr/local/lib/R/site-library’\n",
            "(as ‘lib’ is unspecified)\n",
            "\n",
            "Warning message:\n",
            "“package ‘SeuratData’ is not available for this version of R\n",
            "\n",
            "A version of this package for your version of R might be available elsewhere,\n",
            "see the ideas at\n",
            "https://cran.r-project.org/doc/manuals/r-patched/R-admin.html#Installing-packages”\n"
          ]
        }
      ]
    },
    {
      "cell_type": "code",
      "metadata": {
        "colab": {
          "base_uri": "https://localhost:8080/"
        },
        "id": "U_c6jMJHmFYJ",
        "outputId": "866ab1ff-66c4-42e7-a8f3-b73207d607f5"
      },
      "source": [
        "install.packages('ggplot2')"
      ],
      "execution_count": null,
      "outputs": [
        {
          "output_type": "stream",
          "name": "stderr",
          "text": [
            "Installing package into ‘/usr/local/lib/R/site-library’\n",
            "(as ‘lib’ is unspecified)\n",
            "\n"
          ]
        }
      ]
    },
    {
      "cell_type": "code",
      "metadata": {
        "colab": {
          "base_uri": "https://localhost:8080/"
        },
        "id": "HD2NpQY6nVGj",
        "outputId": "6d9fa188-f9d7-4260-816c-e1ed265bc18f"
      },
      "source": [
        "install.packages('patchwork')"
      ],
      "execution_count": null,
      "outputs": [
        {
          "output_type": "stream",
          "name": "stderr",
          "text": [
            "Installing package into ‘/usr/local/lib/R/site-library’\n",
            "(as ‘lib’ is unspecified)\n",
            "\n"
          ]
        }
      ]
    },
    {
      "cell_type": "code",
      "metadata": {
        "colab": {
          "base_uri": "https://localhost:8080/"
        },
        "id": "YdrDCxFXnZIQ",
        "outputId": "71503559-c8c2-4168-811f-87ada71d9b56"
      },
      "source": [
        "install.packages('dplyr')"
      ],
      "execution_count": null,
      "outputs": [
        {
          "output_type": "stream",
          "name": "stderr",
          "text": [
            "Installing package into ‘/usr/local/lib/R/site-library’\n",
            "(as ‘lib’ is unspecified)\n",
            "\n"
          ]
        }
      ]
    },
    {
      "cell_type": "code",
      "metadata": {
        "colab": {
          "base_uri": "https://localhost:8080/"
        },
        "id": "GXPzujBenbsv",
        "outputId": "a4c73511-60e8-4506-a850-3a4fcc58ece7"
      },
      "source": [
        "library(Seurat)\n",
        "#library(SeuratData)\n",
        "library(ggplot2)\n",
        "library(patchwork)\n",
        "library(dplyr)"
      ],
      "execution_count": null,
      "outputs": [
        {
          "output_type": "stream",
          "name": "stderr",
          "text": [
            "Attaching SeuratObject\n",
            "\n",
            "\n",
            "Attaching package: ‘dplyr’\n",
            "\n",
            "\n",
            "The following objects are masked from ‘package:stats’:\n",
            "\n",
            "    filter, lag\n",
            "\n",
            "\n",
            "The following objects are masked from ‘package:base’:\n",
            "\n",
            "    intersect, setdiff, setequal, union\n",
            "\n",
            "\n"
          ]
        }
      ]
    },
    {
      "cell_type": "markdown",
      "metadata": {
        "id": "fMrZ87a0lhbH"
      },
      "source": [
        "First, Read10X() function reads in the output of the cellranger pipeline from 10X, returning a unique molecular identified (UMI) count matrix. The values in this matrix represent the number of molecules for each feature (i.e. gene; row) that are detected in each cell (column)."
      ]
    },
    {
      "cell_type": "code",
      "metadata": {
        "colab": {
          "base_uri": "https://localhost:8080/",
          "height": 151
        },
        "id": "WTRO65Qah9MS",
        "outputId": "6b698aaa-26b5-49c7-9c2d-d190a6d7f3c2"
      },
      "source": [
        "# Load the PBMC dataset\n",
        "pbmc.data <- Read10X(data.dir = \"/\")\n",
        "# Initialize the Seurat object with the raw (non-normalized data).\n",
        "pbmc <- CreateSeuratObject(counts = pbmc.data, project = \"pbmc3k\", min.cells = 3, min.features = 200)\n",
        "pbmc"
      ],
      "execution_count": null,
      "outputs": [
        {
          "output_type": "error",
          "ename": "ERROR",
          "evalue": "ignored",
          "traceback": [
            "Error in Read10X(data.dir = \"/\"): Barcode file missing. Expecting barcodes.tsv.gz\nTraceback:\n",
            "1. Read10X(data.dir = \"/\")",
            "2. stop(\"Barcode file missing. Expecting \", basename(path = barcode.loc))"
          ]
        }
      ]
    },
    {
      "cell_type": "markdown",
      "metadata": {
        "id": "yMrtSw6-nkHT"
      },
      "source": [
        "View matrix data"
      ]
    },
    {
      "cell_type": "code",
      "metadata": {
        "id": "NmpKpsXBnjtg"
      },
      "source": [
        "# Lets view a few genes in the first 10 cells\n",
        "pbmc.data[c(\"CD3D\", \"TCL1A\", \"MS4A1\"), 1:30]"
      ],
      "execution_count": null,
      "outputs": []
    },
    {
      "cell_type": "markdown",
      "metadata": {
        "id": "ty62-tc_nyiN"
      },
      "source": [
        "view metadata"
      ]
    },
    {
      "cell_type": "code",
      "metadata": {
        "id": "t_Wk0-0onyvO"
      },
      "source": [
        "# Show QC metrics for the first 5 cells\n",
        "head(pbmc@meta.data, 5)"
      ],
      "execution_count": null,
      "outputs": []
    },
    {
      "cell_type": "markdown",
      "metadata": {
        "id": "IikHINLQnznd"
      },
      "source": [
        "**QC and selection of good quality cells**\n",
        "\n",
        "**A few QC metrics commonly used:**\n",
        "1. The number of unique genes detected in each cell.\n",
        "\n",
        "- Low-quality cells or empty droplets will often have very few genes\n",
        "Cell doublets or multiplets may exhibit an aberrantly high gene count\n",
        "Similarly, the total number of molecules detected within a cell (correlates strongly with unique genes)\n",
        "\n",
        "2. The percentage of reads that map to the mitochondrial genome\n",
        "- Low-quality / dying cells often exhibit extensive mitochondrial contamination\n",
        "\n",
        "We calculate mitochondrial QC metrics with the PercentageFeatureSet() function, which calculates the percentage of counts originating from a set of features\n",
        "We use the set of all genes starting with MT- as a set of mitochondrial genes"
      ]
    },
    {
      "cell_type": "code",
      "metadata": {
        "id": "DHTV33jWn0T9"
      },
      "source": [
        "# The [[ operator can add columns to object metadata. This is a great place to stash QC stats\n",
        "pbmc[[\"percent.mt\"]] <- PercentageFeatureSet(pbmc, pattern = \"^MT-\")"
      ],
      "execution_count": null,
      "outputs": []
    },
    {
      "cell_type": "code",
      "metadata": {
        "id": "Q9eYwdEtoPbX"
      },
      "source": [
        "# Show QC metrics for the first 5 cells\n",
        "head(pbmc@meta.data, 5)"
      ],
      "execution_count": null,
      "outputs": []
    },
    {
      "cell_type": "code",
      "metadata": {
        "id": "5-yqEF-BoWXx"
      },
      "source": [
        "# Visualize QC metrics as a violin plot\n",
        "VlnPlot(pbmc, features = c(\"nFeature_RNA\", \"nCount_RNA\", \"percent.mt\"), ncol = 3)"
      ],
      "execution_count": null,
      "outputs": []
    },
    {
      "cell_type": "code",
      "metadata": {
        "id": "AM9Tvs_0ob9y"
      },
      "source": [
        "# FeatureScatter is typically used to visualize feature-feature relationships, but can be used\n",
        "# for anything calculated by the object, i.e. columns in object metadata, PC scores etc.\n",
        "\n",
        "plot1 <- FeatureScatter(pbmc, feature1 = \"nCount_RNA\", feature2 = \"percent.mt\")\n",
        "plot2 <- FeatureScatter(pbmc, feature1 = \"nCount_RNA\", feature2 = \"nFeature_RNA\")\n",
        "plot1 + plot2"
      ],
      "execution_count": null,
      "outputs": []
    },
    {
      "cell_type": "markdown",
      "metadata": {
        "id": "knS7IrMCokNE"
      },
      "source": [
        "**Qality control filters**\n",
        "\n",
        "We filter cells that have unique feature counts over 2,500 or less than 200\n",
        "We filter cells that have >5% mitochondrial counts\n",
        "\n",
        "Remove empty/broken cells (with high mitrochondrial content) and doublets/multiplets (by removing high RNA features >2000/2500)"
      ]
    },
    {
      "cell_type": "code",
      "metadata": {
        "id": "1rknT0ikofsn"
      },
      "source": [
        "pbmc <- subset(pbmc, subset = nFeature_RNA > 200 & nFeature_RNA < 2500 & percent.mt < 5)"
      ],
      "execution_count": null,
      "outputs": []
    },
    {
      "cell_type": "markdown",
      "metadata": {
        "id": "doI27_9HuiQq"
      },
      "source": [
        "**Normalizing the data**\n",
        "\n",
        "After removing unwanted cells from the dataset, the next step is to normalize the data. \n",
        "\n",
        "By default, we employ a global-scaling normalization method “LogNormalize” that normalizes the feature expression measurements for each cell by the total expression, multiplies this by a scale factor (10,000 by default), and log-transforms the result."
      ]
    },
    {
      "cell_type": "code",
      "metadata": {
        "id": "e_36SAu3o-Sn"
      },
      "source": [
        "#Normalize data\n",
        "pbmc_norm <- NormalizeData(pbmc, normalization.method = \"LogNormalize\", scale.factor = 10000)\n",
        "#or \n",
        "#pbmc_norm <- NormalizeData(pbmc)"
      ],
      "execution_count": null,
      "outputs": []
    },
    {
      "cell_type": "markdown",
      "metadata": {
        "id": "T-AKAwRMpRS2"
      },
      "source": [
        "**Identify Highly variable features (feature selection)** \n",
        "\n",
        "Now, we will identify a subset of features that exhibit high cell-to-cell variation in the dataset (i.e, they are highly expressed in some cells, and lowly expressed in others). These genes in downstream analysis helps to highlight biological signal in single-cell datasets.\n",
        "\n",
        "For this purpose, we can use FindVariableFeatures() function. By default, we return 2,000 features per dataset. These will be used in downstream analysis, like PCA."
      ]
    },
    {
      "cell_type": "code",
      "metadata": {
        "id": "1EOtA3x-pE3H"
      },
      "source": [
        "pbmc_hv <- FindVariableFeatures(pbmc_norm, selection.method = \"vst\", nfeatures = 2000)\n",
        "\n",
        "# Identify the 10 most highly variable genes\n",
        "top10 <- head(VariableFeatures(pbmc_hv), 10)"
      ],
      "execution_count": null,
      "outputs": []
    },
    {
      "cell_type": "markdown",
      "metadata": {
        "id": "sCDSg4C_p-RA"
      },
      "source": [
        "Visualize top features"
      ]
    },
    {
      "cell_type": "code",
      "metadata": {
        "id": "hB_m-07-p-eu"
      },
      "source": [
        "# plot variable features with and without labels\n",
        "plot1 <- VariableFeaturePlot(pbmc_hv)\n",
        "plot2 <- LabelPoints(plot = plot1, points = top10, repel = TRUE)\n",
        "plot1 + plot2"
      ],
      "execution_count": null,
      "outputs": []
    },
    {
      "cell_type": "markdown",
      "metadata": {
        "id": "30-O84mqwiNJ"
      },
      "source": [
        "**Scaling the data**\n",
        "\n",
        "Now, we will apply ‘scaling’ that is a standard pre-processing step prior to dimensional reduction techniques like PCA using ScaleData() function:\n",
        "\n",
        "It will Shifts the expression of each gene, so that the mean expression across cells is 0 Scales the expression of each gene, so that the variance across cells is 1.\n",
        "\n",
        "This step gives equal weight in downstream analyses, so that highly-expressed genes do not dominate"
      ]
    },
    {
      "cell_type": "code",
      "metadata": {
        "id": "7LQ68mC-qD8f"
      },
      "source": [
        "#scale data\n",
        "all.genes <- rownames(pbmc_hv)\n",
        "pbmc_scaled <- ScaleData(pbmc_hv, features = all.genes)"
      ],
      "execution_count": null,
      "outputs": []
    },
    {
      "cell_type": "markdown",
      "metadata": {
        "id": "3_PcPPVsqS3B"
      },
      "source": [
        "**Linear dimensional Reduction**\n",
        "\n",
        "Next we will perform PCA on the scaled data. By default, only the previously determined variable features are used as input"
      ]
    },
    {
      "cell_type": "code",
      "metadata": {
        "id": "Z0OV6zEcqVxL"
      },
      "source": [
        "#perform PCA\n",
        "pbmc_pca <- RunPCA(pbmc_scaled, features = VariableFeatures(object = pbmc_scaled))"
      ],
      "execution_count": null,
      "outputs": []
    },
    {
      "cell_type": "code",
      "metadata": {
        "id": "fHBrOcd1qZT4"
      },
      "source": [
        "# Examine and visualize PCA results a few different ways\n",
        "print(pbmc_pca[[\"pca\"]], dims = 1:5, nfeatures = 5)"
      ],
      "execution_count": null,
      "outputs": []
    },
    {
      "cell_type": "code",
      "metadata": {
        "id": "r1HiR5cSqgQN"
      },
      "source": [
        "VizDimLoadings(pbmc_pca, dims = 1:2, reduction = \"pca\")"
      ],
      "execution_count": null,
      "outputs": []
    },
    {
      "cell_type": "code",
      "metadata": {
        "id": "ISXQuvPaqkuU"
      },
      "source": [
        "#PCA scatterplot \n",
        "DimPlot(pbmc_pca, reduction = \"pca\")"
      ],
      "execution_count": null,
      "outputs": []
    },
    {
      "cell_type": "markdown",
      "metadata": {
        "id": "RbyEhJTWquH_"
      },
      "source": [
        "**DimHeatmap**\n",
        "\n",
        "DimHeatmap() allows for easy exploration of the primary sources of heterogeneity in a dataset, and can be useful when trying to decide which PCs to include for further downstream analyses. \n",
        "\n",
        "Both cells and features are ordered according to their PCA scores. "
      ]
    },
    {
      "cell_type": "code",
      "metadata": {
        "id": "qSpmxmtwquvT"
      },
      "source": [
        "DimHeatmap(pbmc_pca, dims = 1, cells = 500, balanced = TRUE)"
      ],
      "execution_count": null,
      "outputs": []
    },
    {
      "cell_type": "code",
      "metadata": {
        "id": "oF-Q-vU4qqfj"
      },
      "source": [
        "DimHeatmap(pbmc_pca, dims = 1:15, cells = 500, balanced = TRUE)"
      ],
      "execution_count": null,
      "outputs": []
    },
    {
      "cell_type": "markdown",
      "metadata": {
        "id": "Xe9zgNqRq4z5"
      },
      "source": [
        "**Determine the ‘dimensionality’ of the dataset**\n",
        "\n",
        "To overcome the extensive technical noise in any single feature for scRNA-seq data, Seurat clusters cells based on their PCA scores, with each PC essentially representing a ‘metafeature’ that combines information across a correlated feature set. \n",
        "\n",
        "The top principal components therefore represent a robust compression of the dataset. However, how many components should we choose to include? 10? 20? 100?\n",
        "\n",
        "In Macosko et al, we implemented a resampling test inspired by the JackStraw procedure. We randomly permute a subset of the data (1% by default) and rerun PCA, constructing a ‘null distribution’ of feature scores, and repeat this procedure. We identify ‘significant’ PCs as those who have a strong enrichment of low p-value features.\n",
        "\n",
        "**NOTE:** This process can take a long time for big datasets, comment out for expediency. More\n",
        "\n",
        "approximate techniques such as those implemented in ElbowPlot() can be used to reduce\n"
      ]
    },
    {
      "cell_type": "code",
      "metadata": {
        "id": "puB2np1-q_52"
      },
      "source": [
        "# computation time\n",
        "pbmc_p <- JackStraw(pbmc_pca, num.replicate = 100)\n"
      ],
      "execution_count": null,
      "outputs": []
    },
    {
      "cell_type": "code",
      "metadata": {
        "id": "3_zT8d-Hz63L"
      },
      "source": [
        "pbmc_score <- ScoreJackStraw(pbmc_p, dims = 1:20)"
      ],
      "execution_count": null,
      "outputs": []
    },
    {
      "cell_type": "markdown",
      "metadata": {
        "id": "wuSxQ6zKzjG5"
      },
      "source": [
        "**JackStrawPlot**\n",
        "\n",
        "The JackStrawPlot() function provides a visualization tool for comparing the distribution of p-values for each PC with a uniform distribution (dashed line). \n",
        "\n",
        "‘Significant’ PCs will show a strong enrichment of features with low p-values (solid curve above the dashed line)."
      ]
    },
    {
      "cell_type": "code",
      "metadata": {
        "id": "2bBHW23PrDyn"
      },
      "source": [
        "JackStrawPlot(pbmc_score, dims = 1:20)"
      ],
      "execution_count": null,
      "outputs": []
    },
    {
      "cell_type": "markdown",
      "metadata": {
        "id": "3C562HP01aHo"
      },
      "source": [
        " In this case it appears that there is a sharp drop-off in significance after the first 10-12 PCs."
      ]
    },
    {
      "cell_type": "markdown",
      "metadata": {
        "id": "SjN36Q6p1KEh"
      },
      "source": [
        "**Elbow plot**\n",
        "\n",
        "An alternative heuristic method generates an ‘Elbow plot’: a ranking of principle components based on the percentage of variance explained by each one (ElbowPlot() function). "
      ]
    },
    {
      "cell_type": "code",
      "metadata": {
        "id": "UDYpCi-VrHOz"
      },
      "source": [
        "ElbowPlot(pbmc_score)"
      ],
      "execution_count": null,
      "outputs": []
    },
    {
      "cell_type": "markdown",
      "metadata": {
        "id": "bUroxNKN1TdW"
      },
      "source": [
        "In this example, we can observe an ‘elbow’ around PC9-10, suggesting that the majority of true signal is captured in the first 10 PCs."
      ]
    },
    {
      "cell_type": "markdown",
      "metadata": {
        "id": "vLcTYJBXrK63"
      },
      "source": [
        "**Clustering of cells**\n",
        "\n",
        "Seurat v3 applies a graph-based clustering approach, building upon initial strategies in (Macosko et al). Importantly, the distance metric which drives the clustering analysis (based on previously identified PCs) remains the same. However, in this approach of clustering embed cells in a graph structure - for example a K-nearest neighbor (KNN) graph, with edges drawn between cells with similar feature expression patterns, and then attempt to partition this graph into highly interconnected ‘quasi-cliques’ or ‘communities’.\n",
        "\n",
        "As in PhenoGraph, here, a KNN graph based on the euclidean distance in PCA space, and refine the edge weights between any two cells based on the shared overlap in their local neighborhoods (Jaccard similarity). This step is performed using the FindNeighbors() function, and takes as input the previously defined dimensionality of the dataset (first 10 PCs).\n",
        "\n",
        "To cluster the cells,  next, we will apply modularity optimization techniques such as the Louvain algorithm (default) or SLM [SLM, Blondel et al., Journal of Statistical Mechanics], to iteratively group cells together, with the goal of optimizing the standard modularity function. \n",
        "\n",
        "The FindClusters() function implements this procedure, and contains a resolution parameter that sets the ‘granularity’ of the downstream clustering, with increased values leading to a greater number of clusters. We find that setting this parameter between 0.4-1.2 typically returns good results for single-cell datasets of around 3K cells. Optimal resolution often increases for larger datasets. The clusters can be found using the Idents() function."
      ]
    },
    {
      "cell_type": "code",
      "metadata": {
        "id": "ffmCC3srrLIT"
      },
      "source": [
        "pbmc_nn <- FindNeighbors(pbmc_score, dims = 1:10) ## taken first 10 pca components\n"
      ],
      "execution_count": null,
      "outputs": []
    },
    {
      "cell_type": "code",
      "metadata": {
        "id": "xVU2lgns2pRm"
      },
      "source": [
        "#find clusters\n",
        "pbmc_cluster <- FindClusters(pbmc_nn, resolution = 0.5)"
      ],
      "execution_count": null,
      "outputs": []
    },
    {
      "cell_type": "code",
      "metadata": {
        "id": "mFrxIqEmrSyd"
      },
      "source": [
        "# Look at cluster IDs of the first 5 cells\n",
        "head(Idents(pbmc), 5)"
      ],
      "execution_count": null,
      "outputs": []
    },
    {
      "cell_type": "markdown",
      "metadata": {
        "id": "MhnHfnYwrWu7"
      },
      "source": [
        "**Perform non-linear dimensional reduction (UMAP/tSNE)**\n",
        "Seurat allows several non-linear dimensional reduction techniques, such as tSNE and UMAP, to visualize and explore these datasets.\n",
        "\n",
        " The goal of these algorithms is to learn the underlying manifold of the data in order to place similar cells together in low-dimensional space. Cells within the graph-based clusters determined above should co-localize on these dimension reduction plots\n",
        "\n",
        "**UMAP**"
      ]
    },
    {
      "cell_type": "code",
      "metadata": {
        "id": "BKWxMUsZrXC9"
      },
      "source": [
        "# If you haven't installed UMAP, you can do so via reticulate::py_install(packages =\n",
        "# 'umap-learn')\n",
        "pbmc_umap <- RunUMAP(pbmc_cluster, dims = 1:10)"
      ],
      "execution_count": null,
      "outputs": []
    },
    {
      "cell_type": "code",
      "metadata": {
        "id": "riXxkONsrfYK"
      },
      "source": [
        "# note that you can set `label = TRUE` or use the LabelClusters function to help label\n",
        "# individual clusters\n",
        "DimPlot(pbmc_umap, reduction = \"umap\")"
      ],
      "execution_count": null,
      "outputs": []
    },
    {
      "cell_type": "markdown",
      "metadata": {
        "id": "UrYtadLD3kBM"
      },
      "source": [
        "Now, save the object at this point so that it can easily be loaded back in without having to rerun the computationally intensive steps performed above"
      ]
    },
    {
      "cell_type": "code",
      "metadata": {
        "id": "Q2uUFov8rkib"
      },
      "source": [
        "#save data or object\n",
        "saveRDS(pbmc_umap, file = \"pbmc_umap.rds\")"
      ],
      "execution_count": null,
      "outputs": []
    },
    {
      "cell_type": "markdown",
      "metadata": {
        "id": "Cx13Hpt1rlbU"
      },
      "source": [
        "**Finding differentially expressed features (cluster biomarkers)**\n",
        "\n",
        "Seurat help you find markers that define clusters via differential expression. \n",
        "\n",
        "By default, it identifies positive and negative markers of a single cluster (specified in ident.1), compared to all other cells. \n",
        "\n",
        "`FindAllMarkers()` automates this process for all clusters, but you can also test groups of clusters vs. each other, or against all cells.\n",
        "\n",
        "The `min.pct` argument requires a feature to be detected at a minimum percentage in either of the two groups of cells, and the `thresh.test` argument requires a feature to be differentially expressed (on average) by some amount between the two groups. You can set both of these to 0, but with a dramatic increase in time - since this will test a large number of features that are unlikely to be highly discriminatory. \n",
        "\n",
        "As another option to speed up these computations, `max.cells.per.ident` can be set. This will downsample each identity class to have no more cells than whatever this is set to. While there is generally going to be a loss in power, the speed increases can be significant and the most highly differentially expressed features will likely still rise to the top.\n",
        "\n",
        "**find all markers of cluster 2**\n"
      ]
    },
    {
      "cell_type": "code",
      "metadata": {
        "id": "j-NF_J5JrsMR"
      },
      "source": [
        "cluster2.markers <- FindMarkers(pbmc_umap, ident.1 = 2, min.pct = 0.25)\n",
        "head(cluster2.markers, n = 5)"
      ],
      "execution_count": null,
      "outputs": []
    },
    {
      "cell_type": "code",
      "metadata": {
        "id": "A4hoC4dTrwAx"
      },
      "source": [
        "# find all markers distinguishing cluster 5 from clusters 0 and 3\n",
        "cluster5.markers <- FindMarkers(pbmc_umap, ident.1 = 5, ident.2 = c(0, 3), min.pct = 0.25)\n",
        "head(cluster5.markers, n = 5)"
      ],
      "execution_count": null,
      "outputs": []
    },
    {
      "cell_type": "markdown",
      "metadata": {
        "id": "CvmYmhE5r0UK"
      },
      "source": [
        "**Find markers for every cluster compared to all remaining cells**"
      ]
    },
    {
      "cell_type": "code",
      "metadata": {
        "id": "klK7DdgOr0gG"
      },
      "source": [
        "# find markers for every cluster compared to all remaining cells, report only the positive ones\n",
        "pbmc.markers <- FindAllMarkers(pbmc_umap, only.pos = TRUE, min.pct = 0.25, logfc.threshold = 0.25)\n",
        "pbmc.markers %>%\n",
        "    group_by(cluster) %>%\n",
        "    slice_max(n = 2, order_by = avg_log2FC)"
      ],
      "execution_count": null,
      "outputs": []
    },
    {
      "cell_type": "markdown",
      "metadata": {
        "id": "lwp9n50c7mhf"
      },
      "source": [
        "Seurat has several tests for differential expression which can be set with the test.use parameter (see our DE vignette for details). For example, the ROC test returns the ‘classification power’ for any individual marker"
      ]
    },
    {
      "cell_type": "code",
      "metadata": {
        "id": "5sxK1wx3r2Sv"
      },
      "source": [
        "cluster0.markers <- FindMarkers(pbmc_umap, ident.1 = 2, logfc.threshold = 0.25, test.use = \"roc\", only.pos = TRUE)"
      ],
      "execution_count": null,
      "outputs": []
    },
    {
      "cell_type": "code",
      "metadata": {
        "id": "-ictIgS070jx"
      },
      "source": [
        "head(cluster0.markers,5)"
      ],
      "execution_count": null,
      "outputs": []
    },
    {
      "cell_type": "markdown",
      "metadata": {
        "id": "q7wJJq2r8HdD"
      },
      "source": [
        "***Visualizing marker expression ***\n",
        "\n",
        "`VlnPlot()` (shows expression probability distributions across clusters), and `FeaturePlot()` (visualizes feature expression on a PCA plot) are our most commonly used visualizations. "
      ]
    },
    {
      "cell_type": "code",
      "metadata": {
        "id": "_4liglo2r6mo"
      },
      "source": [
        "VlnPlot(pbmc_umap, features = c(\"MS4A1\", \"CD79A\"))"
      ],
      "execution_count": null,
      "outputs": []
    },
    {
      "cell_type": "code",
      "metadata": {
        "id": "1ntu7olCr_pT"
      },
      "source": [
        "# you can plot raw counts as well\n",
        "VlnPlot(pbmc_umap, features = c(\"MS4A1\", \"CD79A\"), slot = \"counts\", log = TRUE)"
      ],
      "execution_count": null,
      "outputs": []
    },
    {
      "cell_type": "code",
      "metadata": {
        "id": "fanM8yLEsE44"
      },
      "source": [
        "#feature plot\n",
        "FeaturePlot(pbmc_umap, features = c(\"MS4A1\", \"GNLY\", \"CD3E\", \"CD14\", \"FCER1A\", \"FCGR3A\", \"LYZ\", \"PPBP\",\n",
        "    \"CD8A\"))"
      ],
      "execution_count": null,
      "outputs": []
    },
    {
      "cell_type": "markdown",
      "metadata": {
        "id": "YqMBplX28uSw"
      },
      "source": [
        "**Heatmap**\n",
        "\n",
        "`DoHeatmap() `generates an expression heatmap for given cells and features. In this case, we are plotting the top 20 markers (or all markers if less than 20) for each cluster."
      ]
    },
    {
      "cell_type": "code",
      "metadata": {
        "id": "VbMaddglsF81"
      },
      "source": [
        "#heatmap for top markers\n",
        "pbmc.markers %>%\n",
        "    group_by(cluster) %>%\n",
        "    top_n(n = 10, wt = avg_log2FC) -> top10\n",
        "DoHeatmap(pbmc_umap, features = top10$gene) + NoLegend()"
      ],
      "execution_count": null,
      "outputs": []
    },
    {
      "cell_type": "markdown",
      "metadata": {
        "id": "yFsxfd3q9IMD"
      },
      "source": [
        "**Assigning cell type identity to clusters**\n",
        "\n",
        "we can use canonical markers to easily match the unbiased clustering to known cell types"
      ]
    },
    {
      "cell_type": "code",
      "metadata": {
        "id": "eO4s2fANsNi7"
      },
      "source": [
        "new.cluster.ids <- c(\"Naive CD4 T\", \"CD14+ Mono\", \"Memory CD4 T\", \"B\", \"CD8 T\", \"FCGR3A+ Mono\",\n",
        "    \"NK\", \"DC\", \"Platelet\")\n",
        "names(new.cluster.ids) <- levels(pbmc_umap)"
      ],
      "execution_count": null,
      "outputs": []
    },
    {
      "cell_type": "code",
      "metadata": {
        "id": "iGQh65nu9rmb"
      },
      "source": [
        "#rename clusters with cell types\n",
        "pbmc_umap_new <- RenameIdents(pbmc_umap, new.cluster.ids)\n",
        "\n",
        "#plot dimplot with cell type\n",
        "DimPlot(pbmc_umap_new, reduction = \"umap\", label = TRUE, pt.size = 0.5) + NoLegend()\n"
      ],
      "execution_count": null,
      "outputs": []
    },
    {
      "cell_type": "code",
      "metadata": {
        "id": "4N5JIBNosQ18"
      },
      "source": [
        "#save object based on cell type\n",
        "saveRDS(pbmc_umap_new, file = \"pbmc3k_final_umap_cells.rds\")"
      ],
      "execution_count": null,
      "outputs": []
    }
  ]
}