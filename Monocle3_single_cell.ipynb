{
  "nbformat": 4,
  "nbformat_minor": 0,
  "metadata": {
    "colab": {
      "name": "Monocle3_single_cell.ipynb",
      "provenance": []
    },
    "kernelspec": {
      "display_name": "R",
      "name": "ir"
    },
    "language_info": {
      "name": "R"
    }
  },
  "cells": [
    {
      "cell_type": "code",
      "metadata": {
        "id": "kCFufmfL5nOu",
        "colab": {
          "base_uri": "https://localhost:8080/"
        },
        "outputId": "a2359279-0c74-4de4-e33b-d9f38a6bda9c"
      },
      "source": [
        "if (!requireNamespace(\"BiocManager\", quietly = TRUE))\n",
        "install.packages(\"BiocManager\")\n",
        "BiocManager::install(version = \"3.14\")\n"
      ],
      "execution_count": null,
      "outputs": [
        {
          "output_type": "stream",
          "name": "stderr",
          "text": [
            "'getOption(\"repos\")' replaces Bioconductor standard repositories, see\n",
            "'?repositories' for details\n",
            "\n",
            "replacement repositories:\n",
            "    CRAN: https://cran.rstudio.com\n",
            "\n",
            "\n",
            "Bioconductor version 3.14 (BiocManager 1.30.16), R 4.1.1 (2021-08-10)\n",
            "\n",
            "Old packages: 'Matrix.utils', 'broom', 'cpp11', 'gert', 'openssl',\n",
            "  'sessioninfo', 'tinytex', 'uuid', 'xfun', 'nlme'\n",
            "\n"
          ]
        }
      ]
    },
    {
      "cell_type": "code",
      "metadata": {
        "colab": {
          "base_uri": "https://localhost:8080/"
        },
        "id": "LWfm1KekZhYy",
        "outputId": "66d27200-5dd0-4d7a-819b-5a26a181fe44"
      },
      "source": [
        "BiocManager::install(c('BiocGenerics', 'DelayedArray', 'DelayedMatrixStats',\n",
        "                       'limma', 'S4Vectors', 'SingleCellExperiment',\n",
        "                       'SummarizedExperiment', 'batchelor', 'Matrix.utils'))"
      ],
      "execution_count": null,
      "outputs": [
        {
          "output_type": "stream",
          "name": "stderr",
          "text": [
            "'getOption(\"repos\")' replaces Bioconductor standard repositories, see\n",
            "'?repositories' for details\n",
            "\n",
            "replacement repositories:\n",
            "    CRAN: https://cran.rstudio.com\n",
            "\n",
            "\n",
            "Bioconductor version 3.14 (BiocManager 1.30.16), R 4.1.1 (2021-08-10)\n",
            "\n",
            "Warning message:\n",
            "“package(s) not installed when version(s) same as current; use `force = TRUE` to\n",
            "  re-install: 'BiocGenerics' 'DelayedArray' 'DelayedMatrixStats' 'limma'\n",
            "  'S4Vectors' 'SingleCellExperiment' 'SummarizedExperiment' 'batchelor'”\n",
            "Installing package(s) 'Matrix.utils'\n",
            "\n",
            "Old packages: 'broom', 'cpp11', 'gert', 'openssl', 'sessioninfo', 'tinytex',\n",
            "  'uuid', 'xfun', 'nlme'\n",
            "\n"
          ]
        }
      ]
    },
    {
      "cell_type": "code",
      "metadata": {
        "colab": {
          "base_uri": "https://localhost:8080/"
        },
        "id": "81nixvo95vmM",
        "outputId": "6a07c499-243e-4ac5-df34-1bac0592ac80"
      },
      "source": [
        "BiocManager::install(c('BiocGenerics', 'DelayedArray', 'DelayedMatrixStats',\n",
        "                       'limma', 'S4Vectors', 'SingleCellExperiment',\n",
        "                       'SummarizedExperiment', 'batchelor', 'Matrix.utils'), force = TRUE)"
      ],
      "execution_count": null,
      "outputs": [
        {
          "output_type": "stream",
          "name": "stderr",
          "text": [
            "'getOption(\"repos\")' replaces Bioconductor standard repositories, see\n",
            "'?repositories' for details\n",
            "\n",
            "replacement repositories:\n",
            "    CRAN: https://cran.rstudio.com\n",
            "\n",
            "\n",
            "Bioconductor version 3.14 (BiocManager 1.30.16), R 4.1.1 (2021-08-10)\n",
            "\n",
            "Installing package(s) 'BiocGenerics', 'DelayedArray', 'DelayedMatrixStats',\n",
            "  'limma', 'S4Vectors', 'SingleCellExperiment', 'SummarizedExperiment',\n",
            "  'batchelor', 'Matrix.utils'\n",
            "\n",
            "Old packages: 'broom', 'cpp11', 'gert', 'openssl', 'sessioninfo', 'tinytex',\n",
            "  'uuid', 'xfun', 'nlme'\n",
            "\n"
          ]
        }
      ]
    },
    {
      "cell_type": "code",
      "metadata": {
        "colab": {
          "base_uri": "https://localhost:8080/"
        },
        "id": "216T1M2jZuoO",
        "outputId": "e3771a70-ae59-4da7-a7ed-aae5a4979ef8"
      },
      "source": [
        "install.packages(\"devtools\")\n",
        "devtools::install_github('cole-trapnell-lab/leidenbase')\n",
        "devtools::install_github('cole-trapnell-lab/monocle3')"
      ],
      "execution_count": null,
      "outputs": [
        {
          "output_type": "stream",
          "name": "stderr",
          "text": [
            "Installing package into ‘/usr/local/lib/R/site-library’\n",
            "(as ‘lib’ is unspecified)\n",
            "\n",
            "Skipping install of 'leidenbase' from a github remote, the SHA1 (430f22af) has not changed since last install.\n",
            "  Use `force = TRUE` to force installation\n",
            "\n",
            "Downloading GitHub repo cole-trapnell-lab/monocle3@HEAD\n",
            "\n"
          ]
        },
        {
          "output_type": "stream",
          "name": "stdout",
          "text": [
            "units (NA -> 0.7-2 ) [CRAN]\n",
            "sf    (NA -> 1.0-3 ) [CRAN]\n",
            "spdep (NA -> 1.1-11) [CRAN]\n"
          ]
        },
        {
          "output_type": "stream",
          "name": "stderr",
          "text": [
            "Skipping 9 packages not available: SummarizedExperiment, S4Vectors, limma, DelayedMatrixStats, DelayedArray, BiocGenerics, batchelor, SingleCellExperiment, Biobase\n",
            "\n",
            "Installing 3 packages: units, sf, spdep\n",
            "\n",
            "Installing packages into ‘/usr/local/lib/R/site-library’\n",
            "(as ‘lib’ is unspecified)\n",
            "\n",
            "Warning message in i.p(...):\n",
            "“installation of package ‘units’ had non-zero exit status”\n",
            "Warning message in i.p(...):\n",
            "“installation of package ‘sf’ had non-zero exit status”\n",
            "Warning message in i.p(...):\n",
            "“installation of package ‘spdep’ had non-zero exit status”\n"
          ]
        },
        {
          "output_type": "stream",
          "name": "stdout",
          "text": [
            "\u001b[32m✔\u001b[39m  \u001b[90mchecking for file ‘/tmp/RtmpBn5F9b/remotes421a839fe0/cole-trapnell-lab-monocle3-004c096/DESCRIPTION’\u001b[39m\u001b[36m\u001b[39m\n",
            "\u001b[90m─\u001b[39m\u001b[90m  \u001b[39m\u001b[90mpreparing ‘monocle3’:\u001b[39m\u001b[36m\u001b[39m\n",
            "\u001b[32m✔\u001b[39m  \u001b[90mchecking DESCRIPTION meta-information\u001b[39m\u001b[36m\u001b[39m\n",
            "\u001b[90m─\u001b[39m\u001b[90m  \u001b[39m\u001b[90mcleaning src\u001b[39m\u001b[36m\u001b[39m\n",
            "\u001b[90m─\u001b[39m\u001b[90m  \u001b[39m\u001b[90mchecking for LF line-endings in source and make files and shell scripts\u001b[39m\u001b[36m\u001b[39m\n",
            "\u001b[90m─\u001b[39m\u001b[90m  \u001b[39m\u001b[90mchecking for empty or unneeded directories\u001b[39m\u001b[36m\u001b[39m\n",
            "   Omitted ‘LazyData’ from DESCRIPTION\n",
            "\u001b[90m─\u001b[39m\u001b[90m  \u001b[39m\u001b[90mbuilding ‘monocle3_1.0.0.tar.gz’\u001b[39m\u001b[36m\u001b[39m\n",
            "   \n"
          ]
        },
        {
          "output_type": "stream",
          "name": "stderr",
          "text": [
            "Installing package into ‘/usr/local/lib/R/site-library’\n",
            "(as ‘lib’ is unspecified)\n",
            "\n",
            "Warning message in i.p(...):\n",
            "“installation of package ‘/tmp/RtmpBn5F9b/file4218bdef47/monocle3_1.0.0.tar.gz’ had non-zero exit status”\n"
          ]
        }
      ]
    },
    {
      "cell_type": "code",
      "metadata": {
        "colab": {
          "base_uri": "https://localhost:8080/"
        },
        "id": "Csc1oKvl5zpN",
        "outputId": "aa07f831-ef7d-4181-eafa-017641b57c4f"
      },
      "source": [
        "install.packages(\"devtools\")\n"
      ],
      "execution_count": null,
      "outputs": [
        {
          "output_type": "stream",
          "name": "stderr",
          "text": [
            "Installing package into ‘/usr/local/lib/R/site-library’\n",
            "(as ‘lib’ is unspecified)\n",
            "\n",
            "Downloading GitHub repo cole-trapnell-lab/leidenbase@HEAD\n",
            "\n"
          ]
        },
        {
          "output_type": "stream",
          "name": "stdout",
          "text": [
            "\n",
            "\u001b[32m✔\u001b[39m  \u001b[90mchecking for file ‘/tmp/RtmpBn5F9b/remotes4212b9e0a9/cole-trapnell-lab-leidenbase-430f22a/DESCRIPTION’\u001b[39m\u001b[36m\u001b[39m\n",
            "\u001b[90m─\u001b[39m\u001b[90m  \u001b[39m\u001b[90mpreparing ‘leidenbase’:\u001b[39m\u001b[36m\u001b[39m\n",
            "\u001b[32m✔\u001b[39m  \u001b[90mchecking DESCRIPTION meta-information\u001b[39m\u001b[36m\u001b[39m\n",
            "\u001b[90m─\u001b[39m\u001b[90m  \u001b[39m\u001b[90mcleaning src\u001b[39m\u001b[36m\u001b[39m\n",
            "\u001b[90m─\u001b[39m\u001b[90m  \u001b[39m\u001b[90mchecking for LF line-endings in source and make files and shell scripts\u001b[39m\u001b[36m\u001b[39m\n",
            "\u001b[90m─\u001b[39m\u001b[90m  \u001b[39m\u001b[90mchecking for empty or unneeded directories\u001b[39m\u001b[36m\u001b[36m (455ms)\u001b[36m\u001b[39m\n",
            "   Omitted ‘LazyData’ from DESCRIPTION\n",
            "\u001b[90m─\u001b[39m\u001b[90m  \u001b[39m\u001b[90mbuilding ‘leidenbase_0.1.3.tar.gz’\u001b[39m\u001b[36m\u001b[39m\n",
            "   \n"
          ]
        },
        {
          "output_type": "stream",
          "name": "stderr",
          "text": [
            "Installing package into ‘/usr/local/lib/R/site-library’\n",
            "(as ‘lib’ is unspecified)\n",
            "\n",
            "Downloading GitHub repo cole-trapnell-lab/monocle3@HEAD\n",
            "\n"
          ]
        },
        {
          "output_type": "stream",
          "name": "stdout",
          "text": [
            "sitmo        (NA    -> 2.0.2     ) [CRAN]\n",
            "RcppEigen    (NA    -> 0.3.3.9.1 ) [CRAN]\n",
            "proxy        (NA    -> 0.4-26    ) [CRAN]\n",
            "cpp11        (0.4.0 -> 0.4.1     ) [CRAN]\n",
            "wk           (NA    -> 0.5.0     ) [CRAN]\n",
            "gtools       (NA    -> 3.9.2     ) [CRAN]\n",
            "gdata        (NA    -> 2.18.0    ) [CRAN]\n",
            "e1071        (NA    -> 1.7-9     ) [CRAN]\n",
            "units        (NA    -> 0.7-2     ) [CRAN]\n",
            "s2           (NA    -> 1.0.7     ) [CRAN]\n",
            "classInt     (NA    -> 0.4-3     ) [CRAN]\n",
            "terra        (NA    -> 1.4-11    ) [CRAN]\n",
            "raster       (NA    -> 3.5-2     ) [CRAN]\n",
            "sp           (NA    -> 1.4-5     ) [CRAN]\n",
            "sass         (NA    -> 0.4.0     ) [CRAN]\n",
            "later        (NA    -> 1.3.0     ) [CRAN]\n",
            "promises     (NA    -> 1.2.0.1   ) [CRAN]\n",
            "warp         (NA    -> 0.2.0     ) [CRAN]\n",
            "parallelly   (NA    -> 1.28.1    ) [CRAN]\n",
            "listenv      (NA    -> 0.8.0     ) [CRAN]\n",
            "globals      (NA    -> 0.14.0    ) [CRAN]\n",
            "future       (NA    -> 1.23.0    ) [CRAN]\n",
            "lazyeval     (NA    -> 0.2.2     ) [CRAN]\n",
            "openssl      (1.4.3 -> 1.4.5     ) [CRAN]\n",
            "gridExtra    (NA    -> 2.3       ) [CRAN]\n",
            "dqrng        (NA    -> 0.3.0     ) [CRAN]\n",
            "RcppProgress (NA    -> 0.4.2     ) [CRAN]\n",
            "RcppAnnoy    (NA    -> 0.0.19    ) [CRAN]\n",
            "RSpectra     (NA    -> 0.16-0    ) [CRAN]\n",
            "FNN          (NA    -> 1.1.3     ) [CRAN]\n",
            "gmodels      (NA    -> 2.18.1    ) [CRAN]\n",
            "expm         (NA    -> 0.999-6   ) [CRAN]\n",
            "coda         (NA    -> 0.19-4    ) [CRAN]\n",
            "LearnBayes   (NA    -> 2.15.1    ) [CRAN]\n",
            "deldir       (NA    -> 1.0-6     ) [CRAN]\n",
            "sf           (NA    -> 1.0-3     ) [CRAN]\n",
            "spData       (NA    -> 2.0.1     ) [CRAN]\n",
            "bslib        (NA    -> 0.3.1     ) [CRAN]\n",
            "sourcetools  (NA    -> 0.1.7     ) [CRAN]\n",
            "fontawesome  (NA    -> 0.2.2     ) [CRAN]\n",
            "xtable       (NA    -> 1.8-4     ) [CRAN]\n",
            "httpuv       (NA    -> 1.6.3     ) [CRAN]\n",
            "slider       (NA    -> 0.2.2     ) [CRAN]\n",
            "furrr        (NA    -> 0.2.3     ) [CRAN]\n",
            "plyr         (NA    -> 1.8.6     ) [CRAN]\n",
            "crosstalk    (NA    -> 1.2.0     ) [CRAN]\n",
            "htmlwidgets  (NA    -> 1.5.4     ) [CRAN]\n",
            "zoo          (NA    -> 1.8-9     ) [CRAN]\n",
            "viridis      (NA    -> 0.6.2     ) [CRAN]\n",
            "uwot         (NA    -> 0.1.10    ) [CRAN]\n",
            "speedglm     (NA    -> 0.3-3     ) [CRAN]\n",
            "spdep        (NA    -> 1.1-11    ) [CRAN]\n",
            "slam         (NA    -> 0.1-48    ) [CRAN]\n",
            "shiny        (NA    -> 1.7.1     ) [CRAN]\n",
            "Rtsne        (NA    -> 0.15      ) [CRAN]\n",
            "RhpcBLASctl  (NA    -> 0.21-247.1) [CRAN]\n",
            "rsample      (NA    -> 0.1.0     ) [CRAN]\n",
            "reshape2     (NA    -> 1.4.4     ) [CRAN]\n",
            "RANN         (NA    -> 2.6.1     ) [CRAN]\n",
            "pscl         (NA    -> 1.5.5     ) [CRAN]\n",
            "plotly       (NA    -> 4.10.0    ) [CRAN]\n",
            "pheatmap     (NA    -> 1.0.12    ) [CRAN]\n",
            "pbmcapply    (NA    -> 1.5.0     ) [CRAN]\n",
            "pbapply      (NA    -> 1.5-0     ) [CRAN]\n",
            "lmtest       (NA    -> 0.9-38    ) [CRAN]\n",
            "ggrepel      (NA    -> 0.9.1     ) [CRAN]\n"
          ]
        },
        {
          "output_type": "stream",
          "name": "stderr",
          "text": [
            "Skipping 9 packages not available: SummarizedExperiment, S4Vectors, limma, DelayedMatrixStats, DelayedArray, BiocGenerics, batchelor, SingleCellExperiment, Biobase\n",
            "\n",
            "Installing 66 packages: sitmo, RcppEigen, proxy, cpp11, wk, gtools, gdata, e1071, units, s2, classInt, terra, raster, sp, sass, later, promises, warp, parallelly, listenv, globals, future, lazyeval, openssl, gridExtra, dqrng, RcppProgress, RcppAnnoy, RSpectra, FNN, gmodels, expm, coda, LearnBayes, deldir, sf, spData, bslib, sourcetools, fontawesome, xtable, httpuv, slider, furrr, plyr, crosstalk, htmlwidgets, zoo, viridis, uwot, speedglm, spdep, slam, shiny, Rtsne, RhpcBLASctl, rsample, reshape2, RANN, pscl, plotly, pheatmap, pbmcapply, pbapply, lmtest, ggrepel\n",
            "\n",
            "Installing packages into ‘/usr/local/lib/R/site-library’\n",
            "(as ‘lib’ is unspecified)\n",
            "\n",
            "Warning message in i.p(...):\n",
            "“installation of package ‘units’ had non-zero exit status”\n",
            "Warning message in i.p(...):\n",
            "“installation of package ‘sf’ had non-zero exit status”\n",
            "Warning message in i.p(...):\n",
            "“installation of package ‘spdep’ had non-zero exit status”\n"
          ]
        },
        {
          "output_type": "stream",
          "name": "stdout",
          "text": [
            "\u001b[32m✔\u001b[39m  \u001b[90mchecking for file ‘/tmp/RtmpBn5F9b/remotes42719c4fbf/cole-trapnell-lab-monocle3-004c096/DESCRIPTION’\u001b[39m\u001b[36m\u001b[39m\n",
            "\u001b[90m─\u001b[39m\u001b[90m  \u001b[39m\u001b[90mpreparing ‘monocle3’:\u001b[39m\u001b[36m\u001b[39m\n",
            "\u001b[32m✔\u001b[39m  \u001b[90mchecking DESCRIPTION meta-information\u001b[39m\u001b[36m\u001b[39m\n",
            "\u001b[90m─\u001b[39m\u001b[90m  \u001b[39m\u001b[90mcleaning src\u001b[39m\u001b[36m\u001b[39m\n",
            "\u001b[90m─\u001b[39m\u001b[90m  \u001b[39m\u001b[90mchecking for LF line-endings in source and make files and shell scripts\u001b[39m\u001b[36m\u001b[39m\n",
            "\u001b[90m─\u001b[39m\u001b[90m  \u001b[39m\u001b[90mchecking for empty or unneeded directories\u001b[39m\u001b[36m\u001b[39m\n",
            "   Omitted ‘LazyData’ from DESCRIPTION\n",
            "\u001b[90m─\u001b[39m\u001b[90m  \u001b[39m\u001b[90mbuilding ‘monocle3_1.0.0.tar.gz’\u001b[39m\u001b[36m\u001b[39m\n",
            "   \n"
          ]
        },
        {
          "output_type": "stream",
          "name": "stderr",
          "text": [
            "Installing package into ‘/usr/local/lib/R/site-library’\n",
            "(as ‘lib’ is unspecified)\n",
            "\n",
            "Warning message in i.p(...):\n",
            "“installation of package ‘/tmp/RtmpBn5F9b/file4240daf7e3/monocle3_1.0.0.tar.gz’ had non-zero exit status”\n"
          ]
        }
      ]
    },
    {
      "cell_type": "code",
      "metadata": {
        "colab": {
          "base_uri": "https://localhost:8080/"
        },
        "id": "JpLuZ9wsL9Ze",
        "outputId": "fec57897-480a-4b71-a49a-26b2752002d8"
      },
      "source": [
        "library(devtools)"
      ],
      "execution_count": null,
      "outputs": [
        {
          "output_type": "stream",
          "name": "stderr",
          "text": [
            "Loading required package: usethis\n",
            "\n"
          ]
        }
      ]
    },
    {
      "cell_type": "code",
      "metadata": {
        "colab": {
          "base_uri": "https://localhost:8080/"
        },
        "id": "ve0q7WPLRwzV",
        "outputId": "da6f0eda-ab0f-419f-80e3-f287b48d31bd"
      },
      "source": [
        "devtools::install_url('https://cran.r-project.org/src/contrib/Archive/Matrix.utils/Matrix.utils_0.9.7.tar.gz')\n"
      ],
      "execution_count": null,
      "outputs": [
        {
          "output_type": "stream",
          "name": "stderr",
          "text": [
            "Downloading package from url: https://cran.r-project.org/src/contrib/Archive/Matrix.utils/Matrix.utils_0.9.7.tar.gz\n",
            "\n"
          ]
        },
        {
          "output_type": "stream",
          "name": "stdout",
          "text": [
            "\n",
            "\u001b[32m✔\u001b[39m  \u001b[90mchecking for file ‘/tmp/RtmpBn5F9b/remotes427cea45e1/Matrix.utils/DESCRIPTION’\u001b[39m\u001b[36m\u001b[39m\n",
            "\u001b[90m─\u001b[39m\u001b[90m  \u001b[39m\u001b[90mpreparing ‘Matrix.utils’:\u001b[39m\u001b[36m\u001b[39m\n",
            "\u001b[32m✔\u001b[39m  \u001b[90mchecking DESCRIPTION meta-information\u001b[39m\u001b[36m\u001b[39m\n",
            "\u001b[90m─\u001b[39m\u001b[90m  \u001b[39m\u001b[90mchecking for LF line-endings in source and make files and shell scripts\u001b[39m\u001b[36m\u001b[39m\n",
            "\u001b[90m─\u001b[39m\u001b[90m  \u001b[39m\u001b[90mchecking for empty or unneeded directories\u001b[39m\u001b[36m\u001b[39m\n",
            "   Omitted ‘LazyData’ from DESCRIPTION\n",
            "\u001b[90m─\u001b[39m\u001b[90m  \u001b[39m\u001b[90mbuilding ‘Matrix.utils_0.9.7.tar.gz’\u001b[39m\u001b[36m\u001b[39m\n",
            "   \n"
          ]
        },
        {
          "output_type": "stream",
          "name": "stderr",
          "text": [
            "Installing package into ‘/usr/local/lib/R/site-library’\n",
            "(as ‘lib’ is unspecified)\n",
            "\n"
          ]
        }
      ]
    },
    {
      "cell_type": "code",
      "metadata": {
        "colab": {
          "base_uri": "https://localhost:8080/"
        },
        "id": "DsaK0VqISP0l",
        "outputId": "dfd89ae5-3893-41a7-83a3-e1b3410cf7c5"
      },
      "source": [
        "install.packages(\"sf\",dependencies = T)"
      ],
      "execution_count": null,
      "outputs": [
        {
          "output_type": "stream",
          "name": "stderr",
          "text": [
            "Installing package into ‘/usr/local/lib/R/site-library’\n",
            "(as ‘lib’ is unspecified)\n",
            "\n",
            "also installing the dependencies ‘geometries’, ‘jsonify’, ‘rapidjsonr’, ‘sfheaders’, ‘geojsonsf’, ‘markdown’, ‘leaflet.providers’, ‘dichromat’, ‘XML’, ‘rex’, ‘leafem’, ‘leaflet’, ‘leafpop’, ‘png’, ‘satellite’, ‘servr’, ‘webshot’, ‘plogr’, ‘spatstat.data’, ‘polyclip’, ‘spatstat.sparse’, ‘abind’, ‘tensor’, ‘goftest’, ‘tmaptools’, ‘widgetframe’, ‘leafsync’, ‘units’, ‘covr’, ‘lwgeom’, ‘maps’, ‘mapview’, ‘microbenchmark’, ‘odbc’, ‘pool’, ‘rgdal’, ‘rgeos’, ‘RPostgres’, ‘RPostgreSQL’, ‘RSQLite’, ‘spatstat’, ‘spatstat.geom’, ‘spatstat.core’, ‘spatstat.linnet’, ‘spatstat.utils’, ‘stars’, ‘tmap’\n",
            "\n",
            "\n",
            "Warning message in install.packages(\"sf\", dependencies = T):\n",
            "“installation of package ‘units’ had non-zero exit status”\n",
            "Warning message in install.packages(\"sf\", dependencies = T):\n",
            "“installation of package ‘sf’ had non-zero exit status”\n",
            "Warning message in install.packages(\"sf\", dependencies = T):\n",
            "“installation of package ‘leafpop’ had non-zero exit status”\n",
            "Warning message in install.packages(\"sf\", dependencies = T):\n",
            "“installation of package ‘lwgeom’ had non-zero exit status”\n",
            "Warning message in install.packages(\"sf\", dependencies = T):\n",
            "“installation of package ‘leafem’ had non-zero exit status”\n",
            "Warning message in install.packages(\"sf\", dependencies = T):\n",
            "“installation of package ‘stars’ had non-zero exit status”\n",
            "Warning message in install.packages(\"sf\", dependencies = T):\n",
            "“installation of package ‘tmaptools’ had non-zero exit status”\n",
            "Warning message in install.packages(\"sf\", dependencies = T):\n",
            "“installation of package ‘mapview’ had non-zero exit status”\n",
            "Warning message in install.packages(\"sf\", dependencies = T):\n",
            "“installation of package ‘tmap’ had non-zero exit status”\n"
          ]
        }
      ]
    },
    {
      "cell_type": "code",
      "metadata": {
        "colab": {
          "base_uri": "https://localhost:8080/"
        },
        "id": "theztVG2L9uE",
        "outputId": "7a539f52-8316-43e5-8244-649a3ca4497f"
      },
      "source": [
        "devtools::install_github('cole-trapnell-lab/leidenbase', force = TRUE)\n"
      ],
      "execution_count": null,
      "outputs": [
        {
          "output_type": "stream",
          "name": "stderr",
          "text": [
            "Downloading GitHub repo cole-trapnell-lab/leidenbase@HEAD\n",
            "\n"
          ]
        },
        {
          "output_type": "stream",
          "name": "stdout",
          "text": [
            "\n",
            "\u001b[32m✔\u001b[39m  \u001b[90mchecking for file ‘/tmp/RtmpBn5F9b/remotes4229b7983e/cole-trapnell-lab-leidenbase-430f22a/DESCRIPTION’\u001b[39m\u001b[36m\u001b[39m\n",
            "\u001b[90m─\u001b[39m\u001b[90m  \u001b[39m\u001b[90mpreparing ‘leidenbase’:\u001b[39m\u001b[36m\u001b[39m\n",
            "\u001b[32m✔\u001b[39m  \u001b[90mchecking DESCRIPTION meta-information\u001b[39m\u001b[36m\u001b[39m\n",
            "\u001b[90m─\u001b[39m\u001b[90m  \u001b[39m\u001b[90mcleaning src\u001b[39m\u001b[36m\u001b[39m\n",
            "\u001b[90m─\u001b[39m\u001b[90m  \u001b[39m\u001b[90mchecking for LF line-endings in source and make files and shell scripts\u001b[39m\u001b[36m\u001b[39m\n",
            "\u001b[90m─\u001b[39m\u001b[90m  \u001b[39m\u001b[90mchecking for empty or unneeded directories\u001b[39m\u001b[36m\u001b[36m (450ms)\u001b[36m\u001b[39m\n",
            "   Omitted ‘LazyData’ from DESCRIPTION\n",
            "\u001b[90m─\u001b[39m\u001b[90m  \u001b[39m\u001b[90mbuilding ‘leidenbase_0.1.3.tar.gz’\u001b[39m\u001b[36m\u001b[39m\n",
            "   \n"
          ]
        },
        {
          "output_type": "stream",
          "name": "stderr",
          "text": [
            "Installing package into ‘/usr/local/lib/R/site-library’\n",
            "(as ‘lib’ is unspecified)\n",
            "\n"
          ]
        }
      ]
    },
    {
      "cell_type": "code",
      "metadata": {
        "colab": {
          "base_uri": "https://localhost:8080/"
        },
        "id": "7Qsl4eOvSSk-",
        "outputId": "e97d4d54-1710-4e89-9639-28adffcaed5d"
      },
      "source": [
        "devtools::install_github('cole-trapnell-lab/monocle3', force = TRUE)"
      ],
      "execution_count": null,
      "outputs": [
        {
          "output_type": "stream",
          "name": "stderr",
          "text": [
            "Downloading GitHub repo cole-trapnell-lab/monocle3@HEAD\n",
            "\n"
          ]
        },
        {
          "output_type": "stream",
          "name": "stdout",
          "text": [
            "units (NA -> 0.7-2 ) [CRAN]\n",
            "sf    (NA -> 1.0-3 ) [CRAN]\n",
            "spdep (NA -> 1.1-11) [CRAN]\n"
          ]
        },
        {
          "output_type": "stream",
          "name": "stderr",
          "text": [
            "Skipping 9 packages not available: SummarizedExperiment, S4Vectors, limma, DelayedMatrixStats, DelayedArray, BiocGenerics, batchelor, SingleCellExperiment, Biobase\n",
            "\n",
            "Installing 3 packages: units, sf, spdep\n",
            "\n",
            "Installing packages into ‘/usr/local/lib/R/site-library’\n",
            "(as ‘lib’ is unspecified)\n",
            "\n",
            "Warning message in i.p(...):\n",
            "“installation of package ‘units’ had non-zero exit status”\n",
            "Warning message in i.p(...):\n",
            "“installation of package ‘sf’ had non-zero exit status”\n",
            "Warning message in i.p(...):\n",
            "“installation of package ‘spdep’ had non-zero exit status”\n",
            "Downloading package from url: https://cran.r-project.org/src/contrib/Archive/Matrix.utils/Matrix.utils_0.9.7.tar.gz\n",
            "\n"
          ]
        },
        {
          "output_type": "stream",
          "name": "stdout",
          "text": [
            "\n",
            "\u001b[32m✔\u001b[39m  \u001b[90mchecking for file ‘/tmp/RtmpBn5F9b/remotes42316b28ca/Matrix.utils/DESCRIPTION’\u001b[39m\u001b[36m\u001b[39m\n",
            "\u001b[90m─\u001b[39m\u001b[90m  \u001b[39m\u001b[90mpreparing ‘Matrix.utils’:\u001b[39m\u001b[36m\u001b[39m\n",
            "\u001b[32m✔\u001b[39m  \u001b[90mchecking DESCRIPTION meta-information\u001b[39m\u001b[36m\u001b[39m\n",
            "\u001b[90m─\u001b[39m\u001b[90m  \u001b[39m\u001b[90mchecking for LF line-endings in source and make files and shell scripts\u001b[39m\u001b[36m\u001b[39m\n",
            "\u001b[90m─\u001b[39m\u001b[90m  \u001b[39m\u001b[90mchecking for empty or unneeded directories\u001b[39m\u001b[36m\u001b[39m\n",
            "   Omitted ‘LazyData’ from DESCRIPTION\n",
            "\u001b[90m─\u001b[39m\u001b[90m  \u001b[39m\u001b[90mbuilding ‘Matrix.utils_0.9.7.tar.gz’\u001b[39m\u001b[36m\u001b[39m\n",
            "   \n"
          ]
        },
        {
          "output_type": "stream",
          "name": "stderr",
          "text": [
            "Installing package into ‘/usr/local/lib/R/site-library’\n",
            "(as ‘lib’ is unspecified)\n",
            "\n"
          ]
        },
        {
          "output_type": "stream",
          "name": "stdout",
          "text": [
            "\u001b[32m✔\u001b[39m  \u001b[90mchecking for file ‘/tmp/RtmpBn5F9b/remotes427bdd0a33/cole-trapnell-lab-monocle3-004c096/DESCRIPTION’\u001b[39m\u001b[36m\u001b[39m\n",
            "\u001b[90m─\u001b[39m\u001b[90m  \u001b[39m\u001b[90mpreparing ‘monocle3’:\u001b[39m\u001b[36m\u001b[39m\n",
            "\u001b[32m✔\u001b[39m  \u001b[90mchecking DESCRIPTION meta-information\u001b[39m\u001b[36m\u001b[39m\n",
            "\u001b[90m─\u001b[39m\u001b[90m  \u001b[39m\u001b[90mcleaning src\u001b[39m\u001b[36m\u001b[39m\n",
            "\u001b[90m─\u001b[39m\u001b[90m  \u001b[39m\u001b[90mchecking for LF line-endings in source and make files and shell scripts\u001b[39m\u001b[36m\u001b[39m\n",
            "\u001b[90m─\u001b[39m\u001b[90m  \u001b[39m\u001b[90mchecking for empty or unneeded directories\u001b[39m\u001b[36m\u001b[39m\n",
            "   Omitted ‘LazyData’ from DESCRIPTION\n",
            "\u001b[90m─\u001b[39m\u001b[90m  \u001b[39m\u001b[90mbuilding ‘monocle3_1.0.0.tar.gz’\u001b[39m\u001b[36m\u001b[39m\n",
            "   \n"
          ]
        },
        {
          "output_type": "stream",
          "name": "stderr",
          "text": [
            "Installing package into ‘/usr/local/lib/R/site-library’\n",
            "(as ‘lib’ is unspecified)\n",
            "\n",
            "Warning message in i.p(...):\n",
            "“installation of package ‘/tmp/RtmpBn5F9b/file4272bc7ea6/monocle3_1.0.0.tar.gz’ had non-zero exit status”\n"
          ]
        }
      ]
    },
    {
      "cell_type": "code",
      "metadata": {
        "colab": {
          "base_uri": "https://localhost:8080/"
        },
        "id": "Iw3Qmb51Y8Zn",
        "outputId": "3b7c37a1-97f7-4cab-9d00-a6e6df8d3b2d"
      },
      "source": [
        "install.packages(\"remotes\")\n",
        "remotes::install_github(\"cole-trapnell-lab/monocle3\")"
      ],
      "execution_count": null,
      "outputs": [
        {
          "output_type": "stream",
          "name": "stderr",
          "text": [
            "Installing package into ‘/usr/local/lib/R/site-library’\n",
            "(as ‘lib’ is unspecified)\n",
            "\n",
            "Downloading GitHub repo cole-trapnell-lab/monocle3@HEAD\n",
            "\n"
          ]
        },
        {
          "output_type": "stream",
          "name": "stdout",
          "text": [
            "units (NA -> 0.7-2 ) [CRAN]\n",
            "sf    (NA -> 1.0-3 ) [CRAN]\n",
            "spdep (NA -> 1.1-11) [CRAN]\n"
          ]
        },
        {
          "output_type": "stream",
          "name": "stderr",
          "text": [
            "Skipping 9 packages not available: SummarizedExperiment, S4Vectors, limma, DelayedMatrixStats, DelayedArray, BiocGenerics, batchelor, SingleCellExperiment, Biobase\n",
            "\n",
            "Installing 3 packages: units, sf, spdep\n",
            "\n",
            "Installing packages into ‘/usr/local/lib/R/site-library’\n",
            "(as ‘lib’ is unspecified)\n",
            "\n",
            "Warning message in i.p(...):\n",
            "“installation of package ‘units’ had non-zero exit status”\n",
            "Warning message in i.p(...):\n",
            "“installation of package ‘sf’ had non-zero exit status”\n",
            "Warning message in i.p(...):\n",
            "“installation of package ‘spdep’ had non-zero exit status”\n",
            "Downloading package from url: https://cran.r-project.org/src/contrib/Archive/Matrix.utils/Matrix.utils_0.9.7.tar.gz\n",
            "\n"
          ]
        },
        {
          "output_type": "stream",
          "name": "stdout",
          "text": [
            "\n",
            "\u001b[32m✔\u001b[39m  \u001b[90mchecking for file ‘/tmp/RtmpBn5F9b/remotes42565fa6dc/Matrix.utils/DESCRIPTION’\u001b[39m\u001b[36m\u001b[39m\n",
            "\u001b[90m─\u001b[39m\u001b[90m  \u001b[39m\u001b[90mpreparing ‘Matrix.utils’:\u001b[39m\u001b[36m\u001b[39m\n",
            "\u001b[32m✔\u001b[39m  \u001b[90mchecking DESCRIPTION meta-information\u001b[39m\u001b[36m\u001b[39m\n",
            "\u001b[90m─\u001b[39m\u001b[90m  \u001b[39m\u001b[90mchecking for LF line-endings in source and make files and shell scripts\u001b[39m\u001b[36m\u001b[39m\n",
            "\u001b[90m─\u001b[39m\u001b[90m  \u001b[39m\u001b[90mchecking for empty or unneeded directories\u001b[39m\u001b[36m\u001b[39m\n",
            "   Omitted ‘LazyData’ from DESCRIPTION\n",
            "\u001b[90m─\u001b[39m\u001b[90m  \u001b[39m\u001b[90mbuilding ‘Matrix.utils_0.9.7.tar.gz’\u001b[39m\u001b[36m\u001b[39m\n",
            "   \n"
          ]
        },
        {
          "output_type": "stream",
          "name": "stderr",
          "text": [
            "Installing package into ‘/usr/local/lib/R/site-library’\n",
            "(as ‘lib’ is unspecified)\n",
            "\n"
          ]
        },
        {
          "output_type": "stream",
          "name": "stdout",
          "text": [
            "\u001b[32m✔\u001b[39m  \u001b[90mchecking for file ‘/tmp/RtmpBn5F9b/remotes427402c8cc/cole-trapnell-lab-monocle3-004c096/DESCRIPTION’\u001b[39m\u001b[36m\u001b[39m\n",
            "\u001b[90m─\u001b[39m\u001b[90m  \u001b[39m\u001b[90mpreparing ‘monocle3’:\u001b[39m\u001b[36m\u001b[39m\n",
            "\u001b[32m✔\u001b[39m  \u001b[90mchecking DESCRIPTION meta-information\u001b[39m\u001b[36m\u001b[39m\n",
            "\u001b[90m─\u001b[39m\u001b[90m  \u001b[39m\u001b[90mcleaning src\u001b[39m\u001b[36m\u001b[39m\n",
            "\u001b[90m─\u001b[39m\u001b[90m  \u001b[39m\u001b[90mchecking for LF line-endings in source and make files and shell scripts\u001b[39m\u001b[36m\u001b[39m\n",
            "\u001b[90m─\u001b[39m\u001b[90m  \u001b[39m\u001b[90mchecking for empty or unneeded directories\u001b[39m\u001b[36m\u001b[39m\n",
            "   Omitted ‘LazyData’ from DESCRIPTION\n",
            "\u001b[90m─\u001b[39m\u001b[90m  \u001b[39m\u001b[90mbuilding ‘monocle3_1.0.0.tar.gz’\u001b[39m\u001b[36m\u001b[39m\n",
            "   \n"
          ]
        },
        {
          "output_type": "stream",
          "name": "stderr",
          "text": [
            "Installing package into ‘/usr/local/lib/R/site-library’\n",
            "(as ‘lib’ is unspecified)\n",
            "\n",
            "Warning message in i.p(...):\n",
            "“installation of package ‘/tmp/RtmpBn5F9b/file425ab7c97d/monocle3_1.0.0.tar.gz’ had non-zero exit status”\n"
          ]
        }
      ]
    },
    {
      "cell_type": "code",
      "metadata": {
        "id": "Tgww7XJ55759",
        "colab": {
          "base_uri": "https://localhost:8080/"
        },
        "outputId": "fceeffbb-cedf-4c28-d8bf-f334eb4d5e92"
      },
      "source": [
        "devtools::install_github('cole-trapnell-lab/monocle3', ref=\"develop\")"
      ],
      "execution_count": null,
      "outputs": [
        {
          "output_type": "stream",
          "name": "stderr",
          "text": [
            "Downloading GitHub repo cole-trapnell-lab/monocle3@develop\n",
            "\n"
          ]
        },
        {
          "output_type": "stream",
          "name": "stdout",
          "text": [
            "terra       (1.4-11 -> 53f8aef03...) [GitHub]\n",
            "units       (NA     -> 0.7-2       ) [CRAN]\n",
            "textshaping (NA     -> 0.3.6       ) [CRAN]\n",
            "sf          (NA     -> 1.0-3       ) [CRAN]\n",
            "ragg        (NA     -> 1.2.0       ) [CRAN]\n",
            "Cairo       (NA     -> 1.5-12.2    ) [CRAN]\n",
            "spdep       (NA     -> 1.1-11      ) [CRAN]\n",
            "ggrastr     (NA     -> 0.2.3       ) [CRAN]\n"
          ]
        },
        {
          "output_type": "stream",
          "name": "stderr",
          "text": [
            "Skipping 10 packages not available: SummarizedExperiment, S4Vectors, limma, DelayedMatrixStats, DelayedArray, BiocParallel, BiocGenerics, batchelor, SingleCellExperiment, Biobase\n",
            "\n",
            "Installing 7 packages: units, textshaping, sf, ragg, Cairo, spdep, ggrastr\n",
            "\n",
            "Installing packages into ‘/usr/local/lib/R/site-library’\n",
            "(as ‘lib’ is unspecified)\n",
            "\n",
            "Warning message in i.p(...):\n",
            "“installation of package ‘units’ had non-zero exit status”\n",
            "Warning message in i.p(...):\n",
            "“installation of package ‘textshaping’ had non-zero exit status”\n",
            "Warning message in i.p(...):\n",
            "“installation of package ‘Cairo’ had non-zero exit status”\n",
            "Warning message in i.p(...):\n",
            "“installation of package ‘sf’ had non-zero exit status”\n",
            "Warning message in i.p(...):\n",
            "“installation of package ‘ragg’ had non-zero exit status”\n",
            "Warning message in i.p(...):\n",
            "“installation of package ‘spdep’ had non-zero exit status”\n",
            "Warning message in i.p(...):\n",
            "“installation of package ‘ggrastr’ had non-zero exit status”\n",
            "Downloading GitHub repo rspatial/terra@HEAD\n",
            "\n"
          ]
        },
        {
          "output_type": "stream",
          "name": "stdout",
          "text": [
            "\n",
            "\u001b[32m✔\u001b[39m  \u001b[90mchecking for file ‘/tmp/Rtmpdj4LBv/remotes426de32e20/rspatial-terra-53f8aef/DESCRIPTION’\u001b[39m\u001b[36m\u001b[39m\n",
            "\u001b[90m─\u001b[39m\u001b[90m  \u001b[39m\u001b[90mpreparing ‘terra’:\u001b[39m\u001b[36m\u001b[39m\n",
            "\u001b[32m✔\u001b[39m  \u001b[90mchecking DESCRIPTION meta-information\u001b[39m\u001b[36m\u001b[39m\n",
            "\u001b[90m─\u001b[39m\u001b[90m  \u001b[39m\u001b[90mcleaning src\u001b[39m\u001b[36m\u001b[39m\n",
            "\u001b[90m─\u001b[39m\u001b[90m  \u001b[39m\u001b[90mrunning ‘cleanup’\u001b[39m\u001b[36m\u001b[39m\n",
            "\u001b[90m─\u001b[39m\u001b[90m  \u001b[39m\u001b[90mchecking for LF line-endings in source and make files and shell scripts\u001b[39m\u001b[36m\u001b[39m\n",
            "\u001b[90m─\u001b[39m\u001b[90m  \u001b[39m\u001b[90mchecking for empty or unneeded directories\u001b[39m\u001b[36m\u001b[39m\n",
            "\u001b[90m─\u001b[39m\u001b[90m  \u001b[39m\u001b[90mbuilding ‘terra_1.4-16.tar.gz’\u001b[39m\u001b[36m\u001b[39m\n",
            "   \n"
          ]
        },
        {
          "output_type": "stream",
          "name": "stderr",
          "text": [
            "Installing package into ‘/usr/local/lib/R/site-library’\n",
            "(as ‘lib’ is unspecified)\n",
            "\n"
          ]
        },
        {
          "output_type": "stream",
          "name": "stdout",
          "text": [
            "\u001b[32m✔\u001b[39m  \u001b[90mchecking for file ‘/tmp/Rtmpdj4LBv/remotes423c3ca11/cole-trapnell-lab-monocle3-80c3378/DESCRIPTION’\u001b[39m\u001b[36m\u001b[36m (340ms)\u001b[36m\u001b[39m\n",
            "\u001b[90m─\u001b[39m\u001b[90m  \u001b[39m\u001b[90mpreparing ‘monocle3’:\u001b[39m\u001b[36m\u001b[39m\n",
            "\u001b[32m✔\u001b[39m  \u001b[90mchecking DESCRIPTION meta-information\u001b[39m\u001b[36m\u001b[39m\n",
            "\u001b[90m─\u001b[39m\u001b[90m  \u001b[39m\u001b[90mcleaning src\u001b[39m\u001b[36m\u001b[39m\n",
            "\u001b[90m─\u001b[39m\u001b[90m  \u001b[39m\u001b[90mchecking for LF line-endings in source and make files and shell scripts\u001b[39m\u001b[36m\u001b[39m\n",
            "\u001b[90m─\u001b[39m\u001b[90m  \u001b[39m\u001b[90mchecking for empty or unneeded directories\u001b[39m\u001b[36m\u001b[39m\n",
            "   Omitted ‘LazyData’ from DESCRIPTION\n",
            "\u001b[90m─\u001b[39m\u001b[90m  \u001b[39m\u001b[90mbuilding ‘monocle3_1.2.0.tar.gz’\u001b[39m\u001b[36m\u001b[39m\n",
            "   \n"
          ]
        },
        {
          "output_type": "stream",
          "name": "stderr",
          "text": [
            "Installing package into ‘/usr/local/lib/R/site-library’\n",
            "(as ‘lib’ is unspecified)\n",
            "\n",
            "Warning message in i.p(...):\n",
            "“installation of package ‘/tmp/Rtmpdj4LBv/file421f4c9a02/monocle3_1.2.0.tar.gz’ had non-zero exit status”\n"
          ]
        }
      ]
    },
    {
      "cell_type": "code",
      "metadata": {
        "id": "O6_cTcog5_Gc",
        "colab": {
          "base_uri": "https://localhost:8080/",
          "height": 129
        },
        "outputId": "d474800c-2a41-455d-fd31-05783206fc7e"
      },
      "source": [
        "library(monocle3)"
      ],
      "execution_count": null,
      "outputs": [
        {
          "output_type": "error",
          "ename": "ERROR",
          "evalue": "ignored",
          "traceback": [
            "Error in library(monocle3): there is no package called ‘monocle3’\nTraceback:\n",
            "1. library(monocle3)"
          ]
        }
      ]
    },
    {
      "cell_type": "code",
      "metadata": {
        "colab": {
          "base_uri": "https://localhost:8080/"
        },
        "id": "OywdYVfuOAve",
        "outputId": "a46ab7f6-abbc-4438-f0cf-28df81c955a7"
      },
      "source": [
        "\n",
        "install.packages(\"remotes\")\n",
        "remotes::install_github(\"cole-trapnell-lab/monocle3\")"
      ],
      "execution_count": null,
      "outputs": [
        {
          "output_type": "stream",
          "name": "stderr",
          "text": [
            "Installing package into ‘/usr/local/lib/R/site-library’\n",
            "(as ‘lib’ is unspecified)\n",
            "\n",
            "Downloading GitHub repo cole-trapnell-lab/monocle3@HEAD\n",
            "\n"
          ]
        },
        {
          "output_type": "stream",
          "name": "stdout",
          "text": [
            "units (NA -> 0.7-2 ) [CRAN]\n",
            "sf    (NA -> 1.0-3 ) [CRAN]\n",
            "spdep (NA -> 1.1-11) [CRAN]\n"
          ]
        },
        {
          "output_type": "stream",
          "name": "stderr",
          "text": [
            "Skipping 9 packages not available: SummarizedExperiment, S4Vectors, limma, DelayedMatrixStats, DelayedArray, BiocGenerics, batchelor, SingleCellExperiment, Biobase\n",
            "\n",
            "Installing 3 packages: units, sf, spdep\n",
            "\n",
            "Installing packages into ‘/usr/local/lib/R/site-library’\n",
            "(as ‘lib’ is unspecified)\n",
            "\n",
            "Warning message in i.p(...):\n",
            "“installation of package ‘units’ had non-zero exit status”\n",
            "Warning message in i.p(...):\n",
            "“installation of package ‘sf’ had non-zero exit status”\n",
            "Warning message in i.p(...):\n",
            "“installation of package ‘spdep’ had non-zero exit status”\n"
          ]
        },
        {
          "output_type": "stream",
          "name": "stdout",
          "text": [
            "\u001b[32m✔\u001b[39m  \u001b[90mchecking for file ‘/tmp/Rtmpdj4LBv/remotes424953b048/cole-trapnell-lab-monocle3-004c096/DESCRIPTION’\u001b[39m\u001b[36m\u001b[39m\n",
            "\u001b[90m─\u001b[39m\u001b[90m  \u001b[39m\u001b[90mpreparing ‘monocle3’:\u001b[39m\u001b[36m\u001b[39m\n",
            "\u001b[32m✔\u001b[39m  \u001b[90mchecking DESCRIPTION meta-information\u001b[39m\u001b[36m\u001b[39m\n",
            "\u001b[90m─\u001b[39m\u001b[90m  \u001b[39m\u001b[90mcleaning src\u001b[39m\u001b[36m\u001b[39m\n",
            "\u001b[90m─\u001b[39m\u001b[90m  \u001b[39m\u001b[90mchecking for LF line-endings in source and make files and shell scripts\u001b[39m\u001b[36m\u001b[39m\n",
            "\u001b[90m─\u001b[39m\u001b[90m  \u001b[39m\u001b[90mchecking for empty or unneeded directories\u001b[39m\u001b[36m\u001b[39m\n",
            "   Omitted ‘LazyData’ from DESCRIPTION\n",
            "\u001b[90m─\u001b[39m\u001b[90m  \u001b[39m\u001b[90mbuilding ‘monocle3_1.0.0.tar.gz’\u001b[39m\u001b[36m\u001b[39m\n",
            "   \n"
          ]
        },
        {
          "output_type": "stream",
          "name": "stderr",
          "text": [
            "Installing package into ‘/usr/local/lib/R/site-library’\n",
            "(as ‘lib’ is unspecified)\n",
            "\n",
            "Warning message in i.p(...):\n",
            "“installation of package ‘/tmp/Rtmpdj4LBv/file426cb212e8/monocle3_1.0.0.tar.gz’ had non-zero exit status”\n"
          ]
        }
      ]
    },
    {
      "cell_type": "code",
      "metadata": {
        "colab": {
          "base_uri": "https://localhost:8080/"
        },
        "id": "0CJ_HjmCRPwK",
        "outputId": "dbeff281-19f5-4d21-e2e7-ad807cc2cc72"
      },
      "source": [
        "install.packages(\"units\", configure.args = '--with-udunits2-lib=/PHShome/ks38/.local/lib')\n",
        "#install.packages(\"units\")"
      ],
      "execution_count": null,
      "outputs": [
        {
          "output_type": "stream",
          "name": "stderr",
          "text": [
            "Installing package into ‘/usr/local/lib/R/site-library’\n",
            "(as ‘lib’ is unspecified)\n",
            "\n",
            "Warning message in install.packages(\"units\", configure.args = \"--with-udunits2-lib=/PHShome/ks38/.local/lib\"):\n",
            "“installation of package ‘units’ had non-zero exit status”\n"
          ]
        }
      ]
    },
    {
      "cell_type": "code",
      "metadata": {
        "id": "SsaJTQnSRP-J"
      },
      "source": [
        ""
      ],
      "execution_count": null,
      "outputs": []
    },
    {
      "cell_type": "code",
      "metadata": {
        "colab": {
          "base_uri": "https://localhost:8080/"
        },
        "id": "n8kAdHMURFEH",
        "outputId": "364e68da-e237-40ee-d56a-df342e24f472"
      },
      "source": [
        "remotes::install_github(\"cole-trapnell-lab/monocle3\")"
      ],
      "execution_count": null,
      "outputs": [
        {
          "output_type": "stream",
          "name": "stderr",
          "text": [
            "Downloading GitHub repo cole-trapnell-lab/monocle3@HEAD\n",
            "\n"
          ]
        },
        {
          "output_type": "stream",
          "name": "stdout",
          "text": [
            "units (NA -> 0.7-2 ) [CRAN]\n",
            "sf    (NA -> 1.0-3 ) [CRAN]\n",
            "spdep (NA -> 1.1-11) [CRAN]\n"
          ]
        },
        {
          "output_type": "stream",
          "name": "stderr",
          "text": [
            "Skipping 9 packages not available: SummarizedExperiment, S4Vectors, limma, DelayedMatrixStats, DelayedArray, BiocGenerics, batchelor, SingleCellExperiment, Biobase\n",
            "\n",
            "Installing 3 packages: units, sf, spdep\n",
            "\n",
            "Installing packages into ‘/usr/local/lib/R/site-library’\n",
            "(as ‘lib’ is unspecified)\n",
            "\n",
            "Warning message in i.p(...):\n",
            "“installation of package ‘units’ had non-zero exit status”\n",
            "Warning message in i.p(...):\n",
            "“installation of package ‘sf’ had non-zero exit status”\n",
            "Warning message in i.p(...):\n",
            "“installation of package ‘spdep’ had non-zero exit status”\n"
          ]
        },
        {
          "output_type": "stream",
          "name": "stdout",
          "text": [
            "\u001b[32m✔\u001b[39m  \u001b[90mchecking for file ‘/tmp/Rtmpdj4LBv/remotes4258e2fa43/cole-trapnell-lab-monocle3-004c096/DESCRIPTION’\u001b[39m\u001b[36m\u001b[39m\n",
            "\u001b[90m─\u001b[39m\u001b[90m  \u001b[39m\u001b[90mpreparing ‘monocle3’:\u001b[39m\u001b[36m\u001b[39m\n",
            "\u001b[32m✔\u001b[39m  \u001b[90mchecking DESCRIPTION meta-information\u001b[39m\u001b[36m\u001b[39m\n",
            "\u001b[90m─\u001b[39m\u001b[90m  \u001b[39m\u001b[90mcleaning src\u001b[39m\u001b[36m\u001b[39m\n",
            "\u001b[90m─\u001b[39m\u001b[90m  \u001b[39m\u001b[90mchecking for LF line-endings in source and make files and shell scripts\u001b[39m\u001b[36m\u001b[39m\n",
            "\u001b[90m─\u001b[39m\u001b[90m  \u001b[39m\u001b[90mchecking for empty or unneeded directories\u001b[39m\u001b[36m\u001b[39m\n",
            "   Omitted ‘LazyData’ from DESCRIPTION\n",
            "\u001b[90m─\u001b[39m\u001b[90m  \u001b[39m\u001b[90mbuilding ‘monocle3_1.0.0.tar.gz’\u001b[39m\u001b[36m\u001b[39m\n",
            "   \n"
          ]
        },
        {
          "output_type": "stream",
          "name": "stderr",
          "text": [
            "Installing package into ‘/usr/local/lib/R/site-library’\n",
            "(as ‘lib’ is unspecified)\n",
            "\n",
            "Warning message in i.p(...):\n",
            "“installation of package ‘/tmp/Rtmpdj4LBv/file4296235cd/monocle3_1.0.0.tar.gz’ had non-zero exit status”\n"
          ]
        }
      ]
    },
    {
      "cell_type": "code",
      "metadata": {
        "colab": {
          "base_uri": "https://localhost:8080/"
        },
        "id": "u6_APipJ4yts",
        "outputId": "33ba3d03-3283-4d08-c772-bf711fe3a921"
      },
      "source": [
        "install.packages(\"monocle3\")"
      ],
      "execution_count": null,
      "outputs": [
        {
          "name": "stderr",
          "output_type": "stream",
          "text": [
            "Installing package into ‘/usr/local/lib/R/site-library’\n",
            "(as ‘lib’ is unspecified)\n",
            "\n",
            "Warning message:\n",
            "“package ‘monocle3’ is not available for this version of R\n",
            "\n",
            "A version of this package for your version of R might be available elsewhere,\n",
            "see the ideas at\n",
            "https://cran.r-project.org/doc/manuals/r-patched/R-admin.html#Installing-packages”\n"
          ]
        }
      ]
    },
    {
      "cell_type": "code",
      "metadata": {
        "colab": {
          "base_uri": "https://localhost:8080/"
        },
        "id": "BHr7eYzN5F2X",
        "outputId": "3f4bfae8-ab34-4f82-9462-bb1145c697e8"
      },
      "source": [
        "install.packages(\"dplyr\")"
      ],
      "execution_count": null,
      "outputs": [
        {
          "output_type": "stream",
          "name": "stderr",
          "text": [
            "Installing package into ‘/usr/local/lib/R/site-library’\n",
            "(as ‘lib’ is unspecified)\n",
            "\n"
          ]
        }
      ]
    },
    {
      "cell_type": "code",
      "metadata": {
        "colab": {
          "base_uri": "https://localhost:8080/",
          "height": 129
        },
        "id": "1fyJiEz84-i4",
        "outputId": "4696c2eb-23eb-4be8-e6d7-b14dd1aac019"
      },
      "source": [
        "library(monocle3)\n",
        "library(dplyr)"
      ],
      "execution_count": null,
      "outputs": [
        {
          "output_type": "error",
          "ename": "ERROR",
          "evalue": "ignored",
          "traceback": [
            "Error in library(monocle3): there is no package called ‘monocle3’\nTraceback:\n",
            "1. library(monocle3)"
          ]
        }
      ]
    },
    {
      "cell_type": "code",
      "metadata": {
        "id": "tmjbCaHD5VF9"
      },
      "source": [
        ""
      ],
      "execution_count": null,
      "outputs": []
    },
    {
      "cell_type": "code",
      "metadata": {
        "id": "WI5hTAdV5ZJg"
      },
      "source": [
        "expression_matrix <- readRDS(url(\"http://staff.washington.edu/hpliner/data/cao_l2_expression.rds\"))\n"
      ],
      "execution_count": null,
      "outputs": []
    }
  ]
}